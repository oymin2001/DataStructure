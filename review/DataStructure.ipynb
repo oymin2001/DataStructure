{
  "nbformat": 4,
  "nbformat_minor": 0,
  "metadata": {
    "colab": {
      "provenance": [],
      "authorship_tag": "ABX9TyOjBfFcQFqwdsn6aHYElGsN",
      "include_colab_link": true
    },
    "kernelspec": {
      "name": "python3",
      "display_name": "Python 3"
    },
    "language_info": {
      "name": "python"
    },
    "gpuClass": "standard"
  },
  "cells": [
    {
      "cell_type": "markdown",
      "metadata": {
        "id": "view-in-github",
        "colab_type": "text"
      },
      "source": [
        "<a href=\"https://colab.research.google.com/github/oymin2001/DataStructure/blob/master/review/DataStructure.ipynb\" target=\"_parent\"><img src=\"https://colab.research.google.com/assets/colab-badge.svg\" alt=\"Open In Colab\"/></a>"
      ]
    },
    {
      "cell_type": "markdown",
      "source": [
        "#1. Linked List\n",
        "\n",
        "```cpp\n",
        "typedef struct Node\n",
        "{\n",
        "    int data;\n",
        "    struct Node* next;\n",
        "}Node;\n",
        "```"
      ],
      "metadata": {
        "id": "-SK9wq4LZaVF"
      }
    },
    {
      "cell_type": "code",
      "execution_count": null,
      "metadata": {
        "id": "ywsHLy0TZBxu"
      },
      "outputs": [],
      "source": [
        "class Node:\n",
        "    def __init__(self, data):\n",
        "        self.data = data\n",
        "        self.next = None\n",
        "\n",
        "    def __str__(self):\n",
        "        return \"%d\"%self.data"
      ]
    },
    {
      "cell_type": "markdown",
      "source": [
        "# 2. Queue\n",
        "```cpp\n",
        "typedef struct Queue\n",
        "{\n",
        "    Node* front;\n",
        "    Node* rear;\n",
        "    int NumOfNode;\n",
        "\n",
        "}Queue;\n",
        "```"
      ],
      "metadata": {
        "id": "z6-DozmuZkIo"
      }
    },
    {
      "cell_type": "code",
      "source": [
        "class Queue:\n",
        "    def __init__(self):\n",
        "        self.front = None\n",
        "        self.rear = None\n",
        "        self.NumOfNode = 0\n",
        "\n",
        "    def isEmpty(self):\n",
        "        return self.NumOfNode == 0\n",
        "\n",
        "    def enqueue(self, data):\n",
        "        new_node = Node(data)\n",
        "\n",
        "        if self.isEmpty():\n",
        "            self.front = new_node\n",
        "\n",
        "        else:\n",
        "            self.rear.next = new_node\n",
        "\n",
        "        self.rear = new_node\n",
        "        self.NumOfNode +=1\n",
        "\n",
        "    def dequeue(self):\n",
        "        if self.isEmpty():\n",
        "            return print(\"Error: Queue is Empty!!\")\n",
        "\n",
        "        ptr = self.front\n",
        "        data = ptr.data\n",
        "        self.front = ptr.next\n",
        "        self.NumOfNode -=1\n",
        "        return data\n",
        "\n",
        "    def size(self):\n",
        "        return self.NumOfNode\n",
        "    \n",
        "    def front(self):\n",
        "        return self.front.data\n",
        "\n",
        "    def rear(self):\n",
        "        return self.rear.data"
      ],
      "metadata": {
        "id": "ee5kpbxsZZTY"
      },
      "execution_count": null,
      "outputs": []
    },
    {
      "cell_type": "code",
      "source": [
        "q  = Queue()\n",
        "for i in range(10):\n",
        "    q.enqueue(i)\n",
        "    print(q.rear) ## Node 클래스의 __str__ 메서드 호출\n",
        "print(\"Size of Queue: %d\"%q.size())"
      ],
      "metadata": {
        "colab": {
          "base_uri": "https://localhost:8080/"
        },
        "id": "tAA3yxVzg_WX",
        "outputId": "f831db1c-5b5b-4375-b8c8-cfd9de1178c1"
      },
      "execution_count": null,
      "outputs": [
        {
          "output_type": "stream",
          "name": "stdout",
          "text": [
            "0\n",
            "1\n",
            "2\n",
            "3\n",
            "4\n",
            "5\n",
            "6\n",
            "7\n",
            "8\n",
            "9\n",
            "Size of Queue: 10\n"
          ]
        }
      ]
    },
    {
      "cell_type": "code",
      "source": [
        "for i in range(10):\n",
        "    print(q.front)\n",
        "    q.dequeue()\n",
        "       \n",
        "print(\"Size of Queue: %d\"%q.size())"
      ],
      "metadata": {
        "colab": {
          "base_uri": "https://localhost:8080/"
        },
        "id": "v_sPnuynhfqC",
        "outputId": "715f14f7-c882-4c24-d8c5-da8756f9b945"
      },
      "execution_count": null,
      "outputs": [
        {
          "output_type": "stream",
          "name": "stdout",
          "text": [
            "0\n",
            "1\n",
            "2\n",
            "3\n",
            "4\n",
            "5\n",
            "6\n",
            "7\n",
            "8\n",
            "9\n",
            "Size of Queue: 0\n"
          ]
        }
      ]
    },
    {
      "cell_type": "code",
      "source": [
        "q.isEmpty()"
      ],
      "metadata": {
        "colab": {
          "base_uri": "https://localhost:8080/"
        },
        "id": "1dUkQuZyhmml",
        "outputId": "fa8d9f2a-8be4-42ab-fadb-97430669370f"
      },
      "execution_count": null,
      "outputs": [
        {
          "output_type": "execute_result",
          "data": {
            "text/plain": [
              "True"
            ]
          },
          "metadata": {},
          "execution_count": 103
        }
      ]
    },
    {
      "cell_type": "code",
      "source": [
        "q.dequeue()"
      ],
      "metadata": {
        "colab": {
          "base_uri": "https://localhost:8080/"
        },
        "id": "gOk3pjtNkEk2",
        "outputId": "f65f7b99-0115-4a55-eac8-c5dcc08da13a"
      },
      "execution_count": null,
      "outputs": [
        {
          "output_type": "stream",
          "name": "stdout",
          "text": [
            "Error: Queue is Empty!!\n"
          ]
        }
      ]
    },
    {
      "cell_type": "markdown",
      "source": [
        "#3. Stack\n",
        "```cpp\n",
        "typedef struct {\n",
        "\tint* stack;\n",
        "\tint capacity;\n",
        "\tint top;\n",
        "}Stack;\n",
        "```\n",
        "*** 만약 배열을 이용하여 구현할 경우 배열의 최대 사이즈가 넘어가면 기존 배열의 2배크기의 새로운 배열을 생성하여 기존 배열을 덮어쓰고 생성한 배열을 stack으로 지정"
      ],
      "metadata": {
        "id": "pKBKc7NnsOFl"
      }
    },
    {
      "cell_type": "code",
      "source": [
        "class Stack:\n",
        "    def __init__(self):\n",
        "        self.top = None\n",
        "        self.cap = 0\n",
        "\n",
        "    def isEmpty(self):\n",
        "        return self.cap == 0\n",
        "\n",
        "    def push(self, data):\n",
        "        newNode = Node(data)\n",
        "        newNode.next = self.top\n",
        "        self.top = newNode\n",
        "        self.cap +=1\n",
        "\n",
        "    def pop(self):\n",
        "        if self.isEmpty():\n",
        "            return print(\"Stack is Empty!!\")\n",
        "\n",
        "        ptr = self.top\n",
        "        data = ptr.data\n",
        "        self.top = self.top.next\n",
        "        return data\n",
        "\n",
        "    def top(self):\n",
        "        return self.top.data"
      ],
      "metadata": {
        "id": "wJHicjrtluLX"
      },
      "execution_count": null,
      "outputs": []
    },
    {
      "cell_type": "code",
      "source": [
        "s = Stack()\n",
        "for i in range(10):\n",
        "    s.push(i)\n",
        "    print(s.top)"
      ],
      "metadata": {
        "colab": {
          "base_uri": "https://localhost:8080/"
        },
        "id": "kD15qKXFwiSS",
        "outputId": "c59e50f1-737d-43d4-8d81-6a6c474b5bd4"
      },
      "execution_count": null,
      "outputs": [
        {
          "output_type": "stream",
          "name": "stdout",
          "text": [
            "0\n",
            "1\n",
            "2\n",
            "3\n",
            "4\n",
            "5\n",
            "6\n",
            "7\n",
            "8\n",
            "9\n"
          ]
        }
      ]
    },
    {
      "cell_type": "code",
      "source": [
        "for i in range(10):\n",
        "    print(s.top)\n",
        "    s.pop()"
      ],
      "metadata": {
        "colab": {
          "base_uri": "https://localhost:8080/"
        },
        "id": "Hf1w9B9RwsLz",
        "outputId": "af8cb918-5486-42f1-be4a-1658a5e5bfd3"
      },
      "execution_count": null,
      "outputs": [
        {
          "output_type": "stream",
          "name": "stdout",
          "text": [
            "9\n",
            "8\n",
            "7\n",
            "6\n",
            "5\n",
            "4\n",
            "3\n",
            "2\n",
            "1\n",
            "0\n"
          ]
        }
      ]
    },
    {
      "cell_type": "code",
      "source": [],
      "metadata": {
        "id": "Pw9YjDLzwxGv"
      },
      "execution_count": null,
      "outputs": []
    }
  ]
}