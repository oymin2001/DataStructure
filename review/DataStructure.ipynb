{
  "nbformat": 4,
  "nbformat_minor": 0,
  "metadata": {
    "colab": {
      "provenance": [],
      "collapsed_sections": [
        "-SK9wq4LZaVF",
        "z6-DozmuZkIo"
      ],
      "authorship_tag": "ABX9TyMGmvBZ9Zye2KUfUNy2FcM4",
      "include_colab_link": true
    },
    "kernelspec": {
      "name": "python3",
      "display_name": "Python 3"
    },
    "language_info": {
      "name": "python"
    },
    "gpuClass": "standard"
  },
  "cells": [
    {
      "cell_type": "markdown",
      "metadata": {
        "id": "view-in-github",
        "colab_type": "text"
      },
      "source": [
        "<a href=\"https://colab.research.google.com/github/oymin2001/DataStructure/blob/master/review/DataStructure.ipynb\" target=\"_parent\"><img src=\"https://colab.research.google.com/assets/colab-badge.svg\" alt=\"Open In Colab\"/></a>"
      ]
    },
    {
      "cell_type": "markdown",
      "source": [
        "#1. Linked List\n",
        "\n",
        "```cpp\n",
        "typedef struct Node\n",
        "{\n",
        "    int data;\n",
        "    struct Node* next;\n",
        "}Node;\n",
        "```"
      ],
      "metadata": {
        "id": "-SK9wq4LZaVF"
      }
    },
    {
      "cell_type": "code",
      "execution_count": null,
      "metadata": {
        "id": "ywsHLy0TZBxu"
      },
      "outputs": [],
      "source": [
        "class Node:\n",
        "    def __init__(self, data):\n",
        "        self.data = data\n",
        "        self.next = None\n",
        "\n",
        "    def __str__(self):\n",
        "        return \"%d\"%self.data"
      ]
    },
    {
      "cell_type": "markdown",
      "source": [
        "# 2. Queue\n",
        "```cpp\n",
        "typedef struct Queue\n",
        "{\n",
        "    Node* front;\n",
        "    Node* rear;\n",
        "    int NumOfNode;\n",
        "\n",
        "}Queue;\n",
        "```"
      ],
      "metadata": {
        "id": "z6-DozmuZkIo"
      }
    },
    {
      "cell_type": "code",
      "source": [
        "class Queue:\n",
        "    def __init__(self):\n",
        "        self.front = None\n",
        "        self.rear = None\n",
        "        self.NumOfNode = 0\n",
        "\n",
        "    def isEmpty(self):\n",
        "        return self.NumOfNode == 0\n",
        "\n",
        "    def enqueue(self, data):\n",
        "        new_node = Node(data)\n",
        "\n",
        "        if self.isEmpty():\n",
        "            self.front = new_node\n",
        "\n",
        "        else:\n",
        "            self.rear.next = new_node\n",
        "\n",
        "        self.rear = new_node\n",
        "        self.NumOfNode +=1\n",
        "\n",
        "    def dequeue(self):\n",
        "        if self.isEmpty():\n",
        "            return print(\"Error: Queue is Empty!!\")\n",
        "\n",
        "        ptr = self.front\n",
        "        data = ptr.data\n",
        "        self.front = ptr.next\n",
        "        self.NumOfNode -=1\n",
        "        return data\n",
        "\n",
        "    def size(self):\n",
        "        return self.NumOfNode\n",
        "    \n",
        "    def front(self):\n",
        "        return self.front.data\n",
        "\n",
        "    def rear(self):\n",
        "        return self.rear.data"
      ],
      "metadata": {
        "id": "ee5kpbxsZZTY"
      },
      "execution_count": null,
      "outputs": []
    },
    {
      "cell_type": "code",
      "source": [
        "q  = Queue()\n",
        "for i in range(10):\n",
        "    q.enqueue(i)\n",
        "    print(q.rear) ## Node 클래스의 __str__ 메서드 호출\n",
        "print(\"Size of Queue: %d\"%q.size())"
      ],
      "metadata": {
        "colab": {
          "base_uri": "https://localhost:8080/"
        },
        "id": "tAA3yxVzg_WX",
        "outputId": "f831db1c-5b5b-4375-b8c8-cfd9de1178c1"
      },
      "execution_count": null,
      "outputs": [
        {
          "output_type": "stream",
          "name": "stdout",
          "text": [
            "0\n",
            "1\n",
            "2\n",
            "3\n",
            "4\n",
            "5\n",
            "6\n",
            "7\n",
            "8\n",
            "9\n",
            "Size of Queue: 10\n"
          ]
        }
      ]
    },
    {
      "cell_type": "code",
      "source": [
        "for i in range(10):\n",
        "    print(q.front)\n",
        "    q.dequeue()\n",
        "       \n",
        "print(\"Size of Queue: %d\"%q.size())"
      ],
      "metadata": {
        "colab": {
          "base_uri": "https://localhost:8080/"
        },
        "id": "v_sPnuynhfqC",
        "outputId": "715f14f7-c882-4c24-d8c5-da8756f9b945"
      },
      "execution_count": null,
      "outputs": [
        {
          "output_type": "stream",
          "name": "stdout",
          "text": [
            "0\n",
            "1\n",
            "2\n",
            "3\n",
            "4\n",
            "5\n",
            "6\n",
            "7\n",
            "8\n",
            "9\n",
            "Size of Queue: 0\n"
          ]
        }
      ]
    },
    {
      "cell_type": "code",
      "source": [
        "q.isEmpty()"
      ],
      "metadata": {
        "colab": {
          "base_uri": "https://localhost:8080/"
        },
        "id": "1dUkQuZyhmml",
        "outputId": "fa8d9f2a-8be4-42ab-fadb-97430669370f"
      },
      "execution_count": null,
      "outputs": [
        {
          "output_type": "execute_result",
          "data": {
            "text/plain": [
              "True"
            ]
          },
          "metadata": {},
          "execution_count": 103
        }
      ]
    },
    {
      "cell_type": "code",
      "source": [
        "q.dequeue()"
      ],
      "metadata": {
        "colab": {
          "base_uri": "https://localhost:8080/"
        },
        "id": "gOk3pjtNkEk2",
        "outputId": "f65f7b99-0115-4a55-eac8-c5dcc08da13a"
      },
      "execution_count": null,
      "outputs": [
        {
          "output_type": "stream",
          "name": "stdout",
          "text": [
            "Error: Queue is Empty!!\n"
          ]
        }
      ]
    },
    {
      "cell_type": "markdown",
      "source": [
        "#3. Stack\n",
        "```cpp\n",
        "typedef struct {\n",
        "\tint* stack;\n",
        "\tint capacity;\n",
        "\tint top;\n",
        "}Stack;\n",
        "```\n",
        "*** 만약 배열을 이용하여 구현할 경우 배열의 최대 사이즈가 넘어가면 기존 배열의 2배크기의 새로운 배열을 생성하여 기존 배열을 덮어쓰고 생성한 배열을 stack으로 지정"
      ],
      "metadata": {
        "id": "pKBKc7NnsOFl"
      }
    },
    {
      "cell_type": "code",
      "source": [
        "class Stack:\n",
        "    def __init__(self):\n",
        "        self.top = None\n",
        "        self.cap = 0\n",
        "\n",
        "    def isEmpty(self):\n",
        "        return self.cap == 0\n",
        "\n",
        "    def push(self, data):\n",
        "        newNode = Node(data)\n",
        "        newNode.next = self.top\n",
        "        self.top = newNode\n",
        "        self.cap +=1\n",
        "\n",
        "    def pop(self):\n",
        "        if self.isEmpty():\n",
        "            return print(\"Stack is Empty!!\")\n",
        "\n",
        "        ptr = self.top\n",
        "        data = ptr.data\n",
        "        self.top = self.top.next\n",
        "        return data\n",
        "\n",
        "    def top(self):\n",
        "        return self.top.data"
      ],
      "metadata": {
        "id": "wJHicjrtluLX"
      },
      "execution_count": null,
      "outputs": []
    },
    {
      "cell_type": "code",
      "source": [
        "s = Stack()\n",
        "for i in range(10):\n",
        "    s.push(i)\n",
        "    print(s.top)"
      ],
      "metadata": {
        "colab": {
          "base_uri": "https://localhost:8080/"
        },
        "id": "kD15qKXFwiSS",
        "outputId": "c59e50f1-737d-43d4-8d81-6a6c474b5bd4"
      },
      "execution_count": null,
      "outputs": [
        {
          "output_type": "stream",
          "name": "stdout",
          "text": [
            "0\n",
            "1\n",
            "2\n",
            "3\n",
            "4\n",
            "5\n",
            "6\n",
            "7\n",
            "8\n",
            "9\n"
          ]
        }
      ]
    },
    {
      "cell_type": "code",
      "source": [
        "for i in range(10):\n",
        "    print(s.top)\n",
        "    s.pop()"
      ],
      "metadata": {
        "colab": {
          "base_uri": "https://localhost:8080/"
        },
        "id": "Hf1w9B9RwsLz",
        "outputId": "af8cb918-5486-42f1-be4a-1658a5e5bfd3"
      },
      "execution_count": null,
      "outputs": [
        {
          "output_type": "stream",
          "name": "stdout",
          "text": [
            "9\n",
            "8\n",
            "7\n",
            "6\n",
            "5\n",
            "4\n",
            "3\n",
            "2\n",
            "1\n",
            "0\n"
          ]
        }
      ]
    },
    {
      "cell_type": "markdown",
      "source": [
        "#4. Heap\n",
        "```cpp\n",
        "template<typename E>\n",
        "class HeapPriorityQueue : CompleteBinaryTree<E>\n",
        "{\n",
        "public:\n",
        "    HeapPriorityQueue()\n",
        "    void insert(E& e)\n",
        "    E removeMin(){return eMin;}\n",
        "    void print() { CompleteBinaryTree<E>::print(num_entry); }\n",
        "private:\n",
        "\tint num_enrty;\n",
        "\tCRITICAL_SECTION cs_heapPriQ;\n",
        "};\n",
        "```"
      ],
      "metadata": {
        "id": "VJOR4Phk8Vux"
      }
    },
    {
      "cell_type": "code",
      "source": [
        "class MaxHeap:\n",
        "    def __init__(self):\n",
        "        self.queue = []\n",
        "        self.queue.append(None)\n",
        "\n",
        "    def __repr__(self):\n",
        "        return str(self.queue)\n",
        "\n",
        "    def insert(self, n):\n",
        "        self.queue.append(n)\n",
        "        idx = len(self.queue) - 1\n",
        "\n",
        "        while idx != 1:\n",
        "            if(self.queue[idx//2] < self.queue[idx]):\n",
        "               self.queue[idx//2], self.queue[idx] = self.queue[idx], self.queue[idx//2] \n",
        "            idx//=2\n",
        "\n",
        "    def delete(self):\n",
        "        item = self.queue[1]\n",
        "        self.queue[1] = self.queue[-1]\n",
        "        del self.queue[-1]\n",
        "        parent = 1\n",
        "        child = 2\n",
        "\n",
        "        while child <= len(self.queue)-1:\n",
        "            if(child+1 <= len(self.queue)-1) and (self.queue[child] < self.queue[child+1]):\n",
        "                child +=1\n",
        "\n",
        "            if(self.queue[child] > self.queue[parent]):\n",
        "                self.queue[parent], self.queue[child] = self.queue[child], self.queue[parent]\n",
        "\n",
        "            parent = child\n",
        "            child *=2\n",
        "        return item"
      ],
      "metadata": {
        "id": "PVIBWx5X8wtG"
      },
      "execution_count": null,
      "outputs": []
    },
    {
      "cell_type": "code",
      "source": [
        "q= MaxHeap()\n",
        "for i in [9, 7, 6, 4, 5, 1, 3, 8]:\n",
        "    q.insert(i)"
      ],
      "metadata": {
        "id": "tO_F0BMEhwdc"
      },
      "execution_count": null,
      "outputs": []
    },
    {
      "cell_type": "code",
      "source": [
        "q"
      ],
      "metadata": {
        "colab": {
          "base_uri": "https://localhost:8080/"
        },
        "id": "wFstc5hXo2_x",
        "outputId": "f1beae7b-fa8d-4a04-948e-9f63a5b4d89b"
      },
      "execution_count": null,
      "outputs": [
        {
          "output_type": "execute_result",
          "data": {
            "text/plain": [
              "[None, 9, 8, 6, 7, 5, 1, 3, 4]"
            ]
          },
          "metadata": {},
          "execution_count": 155
        }
      ]
    },
    {
      "cell_type": "code",
      "source": [
        "for i in range(len(q.queue)-1):\n",
        "    q.delete()\n",
        "    print(q)"
      ],
      "metadata": {
        "colab": {
          "base_uri": "https://localhost:8080/"
        },
        "id": "pvTeqcTmpf2i",
        "outputId": "55411b01-fc96-4ade-e8eb-55b8c614d4af"
      },
      "execution_count": null,
      "outputs": [
        {
          "output_type": "stream",
          "name": "stdout",
          "text": [
            "[None, 8, 7, 6, 4, 5, 1, 3]\n",
            "[None, 7, 5, 6, 4, 3, 1]\n",
            "[None, 6, 5, 1, 4, 3]\n",
            "[None, 5, 4, 1, 3]\n",
            "[None, 4, 3, 1]\n",
            "[None, 3, 1]\n",
            "[None, 1]\n",
            "[None]\n"
          ]
        }
      ]
    },
    {
      "cell_type": "markdown",
      "source": [
        "#5. Deque"
      ],
      "metadata": {
        "id": "aE5FRMm5rXy8"
      }
    },
    {
      "cell_type": "code",
      "source": [
        "class Deque:\n",
        "    def __init__(self):\n",
        "        self.arr = []\n",
        "\n",
        "    def __repr__(self):\n",
        "        return str(self.arr)\n",
        "\n",
        "    def push_front(self, x):\n",
        "        narr = [x]\n",
        "        self.arr = self.arr + narr\n",
        "\n",
        "    def push_back(self, x):\n",
        "        self.arr.append(x)\n",
        "\n",
        "    def pop_front(self):\n",
        "        if(len(self.arr) == 0):\n",
        "            return -1\n",
        "        tmp = self.arr[0]\n",
        "        del self.arr[0]\n",
        "        print(tmp)\n",
        "\n",
        "    def pop_back(self):\n",
        "        if(len(self.arr) == 0):\n",
        "            return -1\n",
        "        tmp = self.arr[-1]\n",
        "        del self.arr[-1]\n",
        "        print(tmp)\n",
        "\n",
        "    def size(self):\n",
        "        return len(self.arr)\n",
        "\n",
        "    def empty(self):\n",
        "        if(len(self.arr) == 0):\n",
        "            return 1\n",
        "        else:\n",
        "            return 0\n",
        "\n",
        "    def front(self):\n",
        "        if(len(self.arr) == 0):\n",
        "            return -1\n",
        "        return self.arr[0]\n",
        "\n",
        "    def back(self):\n",
        "        if(len(self.arr) == 0):\n",
        "            return -1\n",
        "        return self.arr[-1]"
      ],
      "metadata": {
        "id": "cQg8taiHrX-q"
      },
      "execution_count": 62,
      "outputs": []
    },
    {
      "cell_type": "code",
      "source": [
        "dd = Deque()"
      ],
      "metadata": {
        "id": "Rs44KLrDuxwN"
      },
      "execution_count": 63,
      "outputs": []
    },
    {
      "cell_type": "code",
      "source": [
        "for i in range(4):\n",
        "    dd.push_front(i)\n",
        "    dd.push_back(4-i)"
      ],
      "metadata": {
        "id": "hoZFIj6Vu0oY"
      },
      "execution_count": 64,
      "outputs": []
    },
    {
      "cell_type": "code",
      "source": [
        "dd"
      ],
      "metadata": {
        "colab": {
          "base_uri": "https://localhost:8080/"
        },
        "id": "JtTvy9c7vAOq",
        "outputId": "fe7a44c1-1d7e-4cfc-e41a-0fb320ebdef6"
      },
      "execution_count": 65,
      "outputs": [
        {
          "output_type": "execute_result",
          "data": {
            "text/plain": [
              "[0, 4, 1, 3, 2, 2, 3, 1]"
            ]
          },
          "metadata": {},
          "execution_count": 65
        }
      ]
    },
    {
      "cell_type": "code",
      "source": [
        "for i in range(4):\n",
        "    dd.pop_back()"
      ],
      "metadata": {
        "colab": {
          "base_uri": "https://localhost:8080/"
        },
        "id": "_mSrY1G5vexZ",
        "outputId": "0f79ff76-9817-431b-8c1f-b9272b79fd9a"
      },
      "execution_count": 66,
      "outputs": [
        {
          "output_type": "stream",
          "name": "stdout",
          "text": [
            "1\n",
            "3\n",
            "2\n",
            "2\n"
          ]
        }
      ]
    },
    {
      "cell_type": "code",
      "source": [
        "for i in range(2):\n",
        "    dd.pop_front()"
      ],
      "metadata": {
        "colab": {
          "base_uri": "https://localhost:8080/"
        },
        "id": "_cNHdGLfvy0D",
        "outputId": "05b64752-e29a-4102-b2d5-7e55335dd9bc"
      },
      "execution_count": 67,
      "outputs": [
        {
          "output_type": "stream",
          "name": "stdout",
          "text": [
            "0\n",
            "4\n"
          ]
        }
      ]
    }
  ]
}